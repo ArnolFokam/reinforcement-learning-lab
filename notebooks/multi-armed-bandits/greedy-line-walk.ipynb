{
 "cells": [
  {
   "cell_type": "markdown",
   "metadata": {},
   "source": [
    "# Multi-Armed Bandit Line Walk\n",
    "\n",
    "In this notebook, we test our knowledge of multi-armed bandits on the a line wark problem. Th\n",
    "e formulation of a line walk problem is as follows:\n",
    "- We have a line scaled from 0 to $\\texttt{max\\_scale}$.\n",
    "- We set sample random two variables $\\texttt{agent\\_position}$ and $\\texttt{goal}$ in the line scale. These are:\n",
    "    - $\\texttt{agent\\_position}$: our agent position\n",
    "    - $\\texttt{goal}$: our goal position\n",
    "- We can perfom n set actions action which basically determines how the agent towards to the goal.\n",
    "- Objective: Find the set of actions to makes the agent reach the goal.\n",
    "- Can your agent find the least number of steps?\n",
    "\n",
    "\n",
    "Note: This is a search problem and this can easily be solved used binary search."
   ]
  },
  {
   "cell_type": "markdown",
   "metadata": {},
   "source": [
    "### Import"
   ]
  },
  {
   "cell_type": "code",
   "execution_count": 68,
   "metadata": {},
   "outputs": [],
   "source": [
    "import numpy as np\n",
    "import matplotlib.pyplot as plt"
   ]
  },
  {
   "cell_type": "markdown",
   "metadata": {},
   "source": [
    "## Environment\n",
    "\n",
    "We start by creating the environment which is a fairly simple one.\n",
    "- We generate the goal and the agent position\n",
    "- Our reward at a given time step is given by:\n",
    "\n",
    "$$ R_t = \\begin{cases} \n",
    "      \\frac{1}{|\\texttt{agent\\_positon}_t - \\texttt{goal}| + 1} & 0 \\leq x \\leq \\texttt{max\\_scale} \\\\\n",
    "      -1 & otherwise\n",
    "   \\end{cases}\n",
    "$$"
   ]
  },
  {
   "cell_type": "code",
   "execution_count": 69,
   "metadata": {},
   "outputs": [],
   "source": [
    "class LineWalkEnvironment:\n",
    "    def __init__(self, max_scale, allowed_steps) -> None:\n",
    "        self.max_scale = max_scale\n",
    "        self.goal = np.random.randint(0, self.max_scale)\n",
    "        self.agent_position = self.get_new_agent_position(self.max_scale, self.goal)\n",
    "        self.initial_agent_position = self.agent_position\n",
    "        self.allowed_stpes = allowed_steps\n",
    "        \n",
    "    def get_new_agent_position(self, max_scale, goal):\n",
    "        # sample the position of the agent while \n",
    "        # excluding the goal position\n",
    "        tmp = list(range(max_scale))\n",
    "        tmp.remove(goal)\n",
    "        return np.random.choice(tmp)\n",
    "    \n",
    "    def reset_agent_position(self):\n",
    "        self.agent_position = self.initial_agent_position\n",
    "        \n",
    "    def renew_agent_position(self):\n",
    "        self.agent_position = self.get_new_agent_position(self.max_scale, self.goal)\n",
    "        \n",
    "    def walk(self, step):\n",
    "        assert step in self.allowed_stpes\n",
    "        self.agent_position += step\n",
    "        \n",
    "        if self.agent_position in list(range(self.max_scale)):\n",
    "            return 1 / (np.abs(self.goal - self.agent_position) + 1)\n",
    "        else:\n",
    "            return -1\n",
    "        "
   ]
  },
  {
   "cell_type": "markdown",
   "metadata": {},
   "source": [
    "## Agent\n",
    "\n",
    "- The only information our greedy agent has is:\n",
    "    - The set of actions it can perform.\n",
    "    - The expected gain of each action along over time.\n",
    "- We update our reward system according to the followinf formula.\n",
    "\n",
    "$$\n",
    "Q_t(a)=\\frac{R_1+R_2+\\cdots+R_{N_t(a)}}{N_t(a)}\n",
    "$$"
   ]
  },
  {
   "cell_type": "code",
   "execution_count": 70,
   "metadata": {},
   "outputs": [],
   "source": [
    "class Walker:\n",
    "    def __init__(self, allowed_steps, epsilon = 0) -> None:\n",
    "        assert 0 <= epsilon <= 1.0\n",
    "        \n",
    "        self.timestep = 1\n",
    "        self.epsilon = epsilon\n",
    "        self.allowed_steps = allowed_steps\n",
    "        assert isinstance(allowed_steps, list) and len(allowed_steps) > 1\n",
    "        self.expected_reward = [0 for _ in range(len(self.allowed_steps))]\n",
    "        \n",
    "    def walk(self, environment):\n",
    "        if np.random.uniform() > self.epsilon:\n",
    "            step_idx = np.argmax(self.expected_reward)\n",
    "        else:\n",
    "            step_idx = np.random.choice(range(len(self.allowed_steps)))\n",
    "            \n",
    "        reward = environment.walk(self.allowed_steps[step_idx]) + np.random.normal()\n",
    "        \n",
    "        # update the cumulative reward of our agent\n",
    "        self.timestep += 1\n",
    "        self.expected_reward[step_idx] = (((self.timestep - 1) * self.expected_reward[step_idx]) + reward) / self.timestep\n",
    "        \n",
    "        return self.expected_reward[step_idx]\n",
    "        \n",
    "    def reset_agent(self):\n",
    "        self.timestep = 1\n",
    "        self.expected_reward = [1 for _ in range(len(self.allowed_steps))]"
   ]
  },
  {
   "cell_type": "markdown",
   "metadata": {},
   "source": [
    "## Training\n",
    "\n",
    "Let us train our agent to find the best direction to walk through the path towards the goal."
   ]
  },
  {
   "cell_type": "markdown",
   "metadata": {},
   "source": [
    "### Greed Solution  (select best action)\n",
    "\n",
    "We will use the approach to select the action at that time step"
   ]
  },
  {
   "cell_type": "code",
   "execution_count": 71,
   "metadata": {},
   "outputs": [
    {
     "name": "stdout",
     "output_type": "stream",
     "text": [
      "agent position: 6\n",
      "goal position: 85\n",
      "timesteps before reaching goal: 110\n"
     ]
    },
    {
     "data": {
      "text/plain": [
       "[<matplotlib.lines.Line2D at 0x7f664c75cc40>]"
      ]
     },
     "execution_count": 71,
     "metadata": {},
     "output_type": "execute_result"
    },
    {
     "data": {
      "image/png": "[encoded data removed]",
      "text/plain": [
       "<Figure size 640x480 with 1 Axes>"
      ]
     },
     "metadata": {},
     "output_type": "display_data"
    }
   ],
   "source": [
    "actions = [-5, -2, -1, 1, 2, 5]\n",
    "env = LineWalkEnvironment(256, actions)\n",
    "greedy_agent = Walker(actions, epsilon=0.0)\n",
    "\n",
    "print(f\"agent position: {env.agent_position}\")\n",
    "print(f\"goal position: {env.goal}\")\n",
    "\n",
    "reward = [0]\n",
    "\n",
    "while env.agent_position != env.goal:\n",
    "    reward.append(greedy_agent.walk(env))\n",
    "    \n",
    "print(f\"timesteps before reaching goal: {greedy_agent.timestep}\")\n",
    "plt.plot(range(len(reward)), reward)"
   ]
  },
  {
   "cell_type": "markdown",
   "metadata": {},
   "source": [
    "Let use reset our agent's position and see if the optimal reward policy learned is the best."
   ]
  },
  {
   "cell_type": "code",
   "execution_count": 72,
   "metadata": {},
   "outputs": [
    {
     "name": "stdout",
     "output_type": "stream",
     "text": [
      "timesteps before reaching goal (after learned policy): 38243\n"
     ]
    },
    {
     "data": {
      "text/plain": [
       "[<matplotlib.lines.Line2D at 0x7f664ecfcf10>]"
      ]
     },
     "execution_count": 72,
     "metadata": {},
     "output_type": "execute_result"
    },
    {
     "data": {
      "image/png": "[encoded data removed]",
      "text/plain": [
       "<Figure size 640x480 with 1 Axes>"
      ]
     },
     "metadata": {},
     "output_type": "display_data"
    }
   ],
   "source": [
    "start = greedy_agent.timestep\n",
    "reward = [0]\n",
    "env.reset_agent_position()\n",
    "\n",
    "while env.agent_position != env.goal:\n",
    "    reward.append(greedy_agent.walk(env))\n",
    "\n",
    "print(f\"timesteps before reaching goal (after learned policy): {greedy_agent.timestep - start}\")\n",
    "plt.plot(range(len(reward)), reward)"
   ]
  },
  {
   "cell_type": "markdown",
   "metadata": {},
   "source": [
    "### Notes\n",
    "\n",
    "This envorinoment does not seem to be the best to demonstrate multi-armed bandit. Should update asap."
   ]
  },
  {
   "cell_type": "markdown",
   "metadata": {},
   "source": []
  }
 ],
 "metadata": {
  "kernelspec": {
   "display_name": "Python 3.10.8 ('rl-lab')",
   "language": "python",
   "name": "python3"
  },
  "language_info": {
   "codemirror_mode": {
    "name": "ipython",
    "version": 3
   },
   "file_extension": ".py",
   "mimetype": "text/x-python",
   "name": "python",
   "nbconvert_exporter": "python",
   "pygments_lexer": "ipython3",
   "version": "3.10.8"
  },
  "orig_nbformat": 4,
  "vscode": {
   "interpreter": {
    "hash": "b3966e3b9d6dc55552b8230db0eeabe240b857644b120091101d8a1684aa2afe"
   }
  }
 },
 "nbformat": 4,
 "nbformat_minor": 2
}
